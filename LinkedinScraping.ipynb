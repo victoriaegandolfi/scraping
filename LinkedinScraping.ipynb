{
 "cells": [
  {
   "cell_type": "code",
   "execution_count": 1,
   "id": "1cb82f2b",
   "metadata": {},
   "outputs": [],
   "source": [
    "from selenium import webdriver\n",
    "import time\n",
    "from selenium.webdriver.common.keys import Keys\n",
    "import time\n",
    "from pathlib import Path\n",
    "import requests\n",
    "from bs4 import BeautifulSoup\n",
    "import logging\n",
    "import pickle\n",
    "import os\n",
    "import requests"
   ]
  },
  {
   "cell_type": "code",
   "execution_count": 99,
   "id": "494c80f2",
   "metadata": {},
   "outputs": [],
   "source": [
    "browser = webdriver.Firefox()\n",
    "browser.implicitly_wait(10) # seconds"
   ]
  },
  {
   "cell_type": "code",
   "execution_count": 100,
   "id": "119721a0",
   "metadata": {},
   "outputs": [],
   "source": [
    "url = 'https://www.linkedin.com/jobs/data-science-vagas?originalSubdomain=br'\n",
    "driver = browser.get(url)"
   ]
  },
  {
   "cell_type": "code",
   "execution_count": 104,
   "id": "04915545",
   "metadata": {},
   "outputs": [
    {
     "name": "stderr",
     "output_type": "stream",
     "text": [
      "<ipython-input-104-dcbf1f6a3c57>:1: DeprecationWarning: find_elements_by_tag_name is deprecated. Please use find_elements(by=By.TAG_NAME, value=name) instead\n",
      "  cards = browser.find_elements_by_tag_name(\"li\")\n"
     ]
    },
    {
     "data": {
      "text/plain": [
       "83"
      ]
     },
     "execution_count": 104,
     "metadata": {},
     "output_type": "execute_result"
    }
   ],
   "source": [
    "cards = browser.find_elements_by_tag_name(\"li\")\n",
    "len(cards)"
   ]
  },
  {
   "cell_type": "code",
   "execution_count": 120,
   "id": "eafd34ba",
   "metadata": {},
   "outputs": [
    {
     "name": "stderr",
     "output_type": "stream",
     "text": [
      "<ipython-input-120-c05d62a133b4>:5: DeprecationWarning: find_element_by_class_name is deprecated. Please use find_element(by=By.CLASS_NAME, value=name) instead\n",
      "  titulo = browser.find_element_by_class_name(\"base-search-card__title\").text\n",
      "<ipython-input-120-c05d62a133b4>:6: DeprecationWarning: find_element_by_class_name is deprecated. Please use find_element(by=By.CLASS_NAME, value=name) instead\n",
      "  empresa = browser.find_element_by_class_name(\"base-search-card__subtitle\").text\n",
      "<ipython-input-120-c05d62a133b4>:7: DeprecationWarning: find_element_by_class_name is deprecated. Please use find_element(by=By.CLASS_NAME, value=name) instead\n",
      "  local = browser.find_element_by_class_name(\"job-search-card__location\").text\n"
     ]
    }
   ],
   "source": [
    "lista = []\n",
    "for num, card in enumerate(cards):\n",
    "    vaga = []\n",
    "    if num <= 24:\n",
    "        titulo = browser.find_element_by_class_name(\"base-search-card__title\").text\n",
    "        empresa = browser.find_element_by_class_name(\"base-search-card__subtitle\").text\n",
    "        local = browser.find_element_by_class_name(\"job-search-card__location\").text\n",
    "        card.click()\n",
    "        descricao = browser.find_element_by_tag_name('strong')\n",
    "        vaga.append(titulo)\n",
    "        vaga.append(empresa)\n",
    "        vaga.append(local)\n",
    "        vaga.append(descricao)\n",
    "        lista.append(vaga)\n",
    "    else:\n",
    "        break"
   ]
  },
  {
   "cell_type": "code",
   "execution_count": 127,
   "id": "c076d0e2",
   "metadata": {},
   "outputs": [],
   "source": [
    "for vaga in lista:\n",
    "    for item in vaga:\n",
    "        f = open(\"vagas.txt\", \"a\")\n",
    "        f.write(item + \"\\n\")\n",
    "    f.write('\\n')\n",
    "f.close()"
   ]
  }
 ],
 "metadata": {
  "kernelspec": {
   "display_name": "Python 3",
   "language": "python",
   "name": "python3"
  },
  "language_info": {
   "codemirror_mode": {
    "name": "ipython",
    "version": 3
   },
   "file_extension": ".py",
   "mimetype": "text/x-python",
   "name": "python",
   "nbconvert_exporter": "python",
   "pygments_lexer": "ipython3",
   "version": "3.8.8"
  }
 },
 "nbformat": 4,
 "nbformat_minor": 5
}
